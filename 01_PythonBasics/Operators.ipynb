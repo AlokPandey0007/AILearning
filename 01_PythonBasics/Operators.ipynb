{
 "cells": [
  {
   "cell_type": "code",
   "execution_count": 2,
   "metadata": {},
   "outputs": [
    {
     "name": "stdout",
     "output_type": "stream",
     "text": [
      "addition 30\n",
      "minus 10\n",
      "mul 200\n",
      "divide 2.0\n",
      "floor chose mininum and round off 6\n",
      "modulus prints the reminder 2\n",
      "power/exponential 8000\n"
     ]
    }
   ],
   "source": [
    "#Arithmatic Operators\n",
    "\n",
    "a,b=20,10\n",
    "sum=a+b \n",
    "print(\"addition\",sum)\n",
    "\n",
    "minus=a-b \n",
    "print(\"minus\",minus)\n",
    "\n",
    "multiply=a*b\n",
    "print(\"mul\",multiply)\n",
    "\n",
    "divide=a/b\n",
    "print(\"divide\",divide)\n",
    "\n",
    "b=3\n",
    "\n",
    "floor_div=a//b\n",
    "print(\"floor chose mininum and round off\",floor_div)\n",
    "\n",
    "modulus_op=a%b #prints the reminder\n",
    "print(\"modulus prints the reminder\",modulus_op)\n",
    "\n",
    "exponential_op=a**b  # it mean b is power of a\n",
    "print(\"power/exponential\",exponential_op)\n",
    "\n",
    "\n"
   ]
  },
  {
   "cell_type": "code",
   "execution_count": 3,
   "metadata": {},
   "outputs": [
    {
     "name": "stdout",
     "output_type": "stream",
     "text": [
      "False\n",
      "True\n",
      "True\n",
      "False\n",
      "False\n",
      "True\n"
     ]
    }
   ],
   "source": [
    "##Comparison Operator. It returns boolean value after comparision\n",
    "a,b=20,5\n",
    "\n",
    "result1=(a==b)   #equal to\n",
    "result2=(a>=b)    #greater than equal to\n",
    "result3=(a>b)   #greater than equal to\n",
    "result4=(a<b)  #less than \n",
    "result5=(a<=b)   #less than equal to\n",
    "result6=(a!=b)  #not equal to\n",
    "\n",
    "print(result1)\n",
    "print(result2)\n",
    "print(result3)\n",
    "print(result4)\n",
    "print(result5)\n",
    "print(result6)\n",
    "\n"
   ]
  },
  {
   "cell_type": "code",
   "execution_count": 4,
   "metadata": {},
   "outputs": [
    {
     "name": "stdout",
     "output_type": "stream",
     "text": [
      "True\n",
      "True\n",
      "False\n"
     ]
    }
   ],
   "source": [
    "#logical operator\n",
    "\n",
    "#AND Operator\n",
    "a=10\n",
    "print(a>5 and a<20)\n",
    "\n",
    "#OR Operator\n",
    "print(a>5 or a<20)\n",
    "\n",
    "#Not Operator\n",
    "test=True\n",
    "print(not test)"
   ]
  }
 ],
 "metadata": {
  "kernelspec": {
   "display_name": "myenv",
   "language": "python",
   "name": "python3"
  },
  "language_info": {
   "codemirror_mode": {
    "name": "ipython",
    "version": 3
   },
   "file_extension": ".py",
   "mimetype": "text/x-python",
   "name": "python",
   "nbconvert_exporter": "python",
   "pygments_lexer": "ipython3",
   "version": "3.12.6"
  }
 },
 "nbformat": 4,
 "nbformat_minor": 2
}
